{
 "cells": [
  {
   "cell_type": "markdown",
   "metadata": {
    "id": "8FS5bFlrfoxC"
   },
   "source": [
    "# SQL 3  -- Aggregation and Grouping\n",
    "This notebook provides code from the SQL2 lecture\n",
    "\n",
    "\n",
    "## Initialization\n",
    "\n",
    "Run the next cell to set up PostgreSQL"
   ]
  },
  {
   "cell_type": "code",
   "execution_count": null,
   "metadata": {
    "id": "YDKnglRafoxI"
   },
   "outputs": [],
   "source": [
    "# install\n",
    "!pip install psycopg2-binary\n",
    "!apt install postgresql postgresql-contrib &>log"
   ]
  },
  {
   "cell_type": "markdown",
   "metadata": {
    "id": "3TrV-_TbfoxJ"
   },
   "source": [
    "## Connect to a database \n"
   ]
  },
  {
   "cell_type": "code",
   "execution_count": null,
   "metadata": {
    "id": "4uJu6_NzfoxJ"
   },
   "outputs": [],
   "source": [
    "# Set your database configuation information\n",
    "# set this value to your database's username\n",
    "dbuser = \"netId\"\n",
    "# set this value to your database's name\n",
    "dbName = \"netIddb\"\n",
    "# set this value to your database's port\n",
    "port = 5432\n",
    "# set this value to your database's endpoint\n",
    "endpoint = \"postgres.clear.rice.edu\"\n"
   ]
  },
  {
   "cell_type": "code",
   "execution_count": null,
   "metadata": {},
   "outputs": [],
   "source": [
    "# build the connection string\n",
    "def make_conn_str(dbuser, password, endpoint, port, dbName):\n",
    "\n",
    "    return f\"postgresql+psycopg2://{dbuser}:{password}@{endpoint}:{port}/{dbName}\"\n",
    "\n",
    "        \n",
    "import getpass\n",
    "password = getpass.getpass()"
   ]
  },
  {
   "cell_type": "code",
   "execution_count": null,
   "metadata": {},
   "outputs": [],
   "source": [
    "# set connection\n",
    "%load_ext sql\n",
    "conn_str = make_conn_str(dbuser, password,endpoint, port, dbName)\n",
    "# Limit queries to 100 results. Increase this value if needed, but recognize that your JN will increase in size as well. \n",
    "%config SqlMagic.displaylimit=100\n",
    "%sql $conn_str"
   ]
  },
  {
   "cell_type": "markdown",
   "metadata": {
    "id": "hmozt2IFfoxM"
   },
   "source": [
    "### Create the tables\n"
   ]
  },
  {
   "cell_type": "code",
   "execution_count": null,
   "metadata": {
    "id": "ym0-VCIzfoxM"
   },
   "outputs": [],
   "source": [
    "%%sql\n",
    "DROP TABLE IF EXISTS Frequents;\n",
    "CREATE TABLE Frequents\n",
    "(\n",
    "    drinker VARCHAR(50) NOT NULL,\n",
    "    cafe VARCHAR(50) NOT NULL,\n",
    "    CONSTRAINT frequents_pkey PRIMARY KEY (drinker, cafe)\n",
    ");\n",
    "\n",
    "DROP TABLE IF EXISTS Likes;\n",
    "CREATE TABLE Likes\n",
    "(\n",
    "    drinker VARCHAR(50) NOT NULL,\n",
    "    coffee VARCHAR(50) NOT NULL,\n",
    "    PRIMARY KEY (drinker, coffee)\n",
    ");\n",
    "\n",
    "DROP TABLE IF EXISTS Serves CASCADE;\n",
    "CREATE TABLE Serves\n",
    "(\n",
    "    cafe VARCHAR(50) NOT NULL,\n",
    "    coffee VARCHAR(50)  NOT NULL,\n",
    "    PRIMARY KEY (cafe, coffee)\n",
    ");\n",
    "\n",
    "DROP TABLE IF EXISTS Rates CASCADE;\n",
    "CREATE TABLE Rates\n",
    "(\n",
    "    drinker VARCHAR(50) NOT NULL,\n",
    "    coffee VARCHAR(50) NOT NULL,\n",
    "    score INTEGER NOT NULL\n",
    ");\n"
   ]
  },
  {
   "cell_type": "markdown",
   "metadata": {
    "id": "Ve2XOh21foxM"
   },
   "source": [
    "Load some data"
   ]
  },
  {
   "cell_type": "code",
   "execution_count": null,
   "metadata": {
    "id": "fcBqpZdpfoxM"
   },
   "outputs": [],
   "source": [
    "%%sql\n",
    "DELETE FROM Frequents;\n",
    "DELETE FROM Likes;\n",
    "DELETE FROM SERVES;\n",
    "DELETE FROM Rates;\n",
    "\n",
    "INSERT INTO Frequents(drinker, cafe) VALUES \n",
    "('Chris', 'A Cafe'),\n",
    "('Chris', 'Double Trouble'),\n",
    "('Risa', 'Brew Joint'),\n",
    "('Risa', 'Java Lava'),\n",
    "('Risa', 'Double Trouble');\n",
    "\n",
    "INSERT INTO Likes(drinker, coffee) VALUES \n",
    "('Chris', 'Drip'),\n",
    "('Chris', 'Espresso'),\n",
    "('Risa', 'Cold Brew'),\n",
    "('Risa', 'Drip'),\n",
    "('Risa', 'Espresso'),\n",
    "('Carlos', 'Cappuccino'),\n",
    "('Ying', 'Cold Brew'),\n",
    "('Ying', 'Drip'),\n",
    "('Ying', 'Espresso'),\n",
    "('Ying', 'Cappuccino');\n",
    "\n",
    "INSERT INTO Serves(cafe, coffee) VALUES \n",
    "('A Cafe', 'Espresso'),\n",
    "('A Cafe', 'Cold Brew'),\n",
    "('Brew Joint', 'Espresso'),\n",
    "('Double Trouble', 'Espresso'),\n",
    "('Double Trouble', 'Cold Brew');\n",
    "\n",
    "\n",
    "INSERT INTO Rates(drinker, coffee, score) VALUES\n",
    "('Chris', 'Cold Brew', 1),\n",
    "('Chris', 'Turkish Coffee', 5),\n",
    "('Jorge', 'Cold Brew', 1),\n",
    "('Jorge', 'Chai Latte', 3),\n",
    "('Risa', 'Cold Brew', 4),\n",
    "('Risa', 'Cold Brew', 5),\n",
    "('Risa', 'Espresso', 2);\n",
    "\n",
    "\n"
   ]
  },
  {
   "cell_type": "markdown",
   "metadata": {
    "id": "wb_v9T08foxN"
   },
   "source": [
    "## Aggregation\n",
    "\n",
    "```RATES (DRINKER, COFFEE, SCORE)```\n",
    "\n",
    "\n",
    "What is the average coffee rating given by Risa?"
   ]
  },
  {
   "cell_type": "code",
   "execution_count": null,
   "metadata": {
    "id": "OBzMSU68foxN"
   },
   "outputs": [],
   "source": [
    "%%sql\n",
    "SELECT  AVG(r.score)\n",
    "FROM Rates r\n",
    "WHERE r.drinker = 'Risa'\n"
   ]
  },
  {
   "cell_type": "markdown",
   "metadata": {
    "id": "aFyjsawHfoxN"
   },
   "source": [
    " Note: Rates does not have a primary key\n",
    " \n",
    " What are the repercussions?"
   ]
  },
  {
   "cell_type": "markdown",
   "metadata": {
    "id": "9UOq4U_DfoxN"
   },
   "source": [
    "-- your thoughts here"
   ]
  },
  {
   "cell_type": "markdown",
   "metadata": {
    "id": "xSYDqhG1foxO"
   },
   "source": [
    "How many coffees has Risa rated?"
   ]
  },
  {
   "cell_type": "code",
   "execution_count": null,
   "metadata": {
    "id": "2tLQhM82foxO"
   },
   "outputs": [],
   "source": [
    "%%sql\n",
    "SELECT COUNT (*)\n",
    "FROM Rates r\n",
    "WHERE r.drinker = 'Risa'"
   ]
  },
  {
   "cell_type": "markdown",
   "metadata": {
    "id": "y63IdyfpfoxO"
   },
   "source": [
    "What does this return?"
   ]
  },
  {
   "cell_type": "markdown",
   "metadata": {
    "id": "RTNmBgWofoxO"
   },
   "source": [
    "-- your thoughts here"
   ]
  },
  {
   "cell_type": "markdown",
   "metadata": {
    "id": "c2D2QIRmfoxO"
   },
   "source": [
    "This gives us the actual number rated, not the number of different coffees.\n",
    "\n",
    "How could you change this query to return the number of different coffees rates?"
   ]
  },
  {
   "cell_type": "code",
   "execution_count": null,
   "metadata": {
    "id": "P-NzZ_6MfoxO"
   },
   "outputs": [],
   "source": [
    "%%sql\n",
    "SELECT COUNT (*)\n",
    "FROM Rates r\n",
    "WHERE r.drinker = 'Risa'"
   ]
  },
  {
   "cell_type": "markdown",
   "metadata": {
    "id": "CmOlvBaTfoxP"
   },
   "source": [
    "Given the following contents of the RATES relation:"
   ]
  },
  {
   "cell_type": "code",
   "execution_count": null,
   "metadata": {
    "id": "fTkWBmWFfoxP"
   },
   "outputs": [],
   "source": [
    "%%sql\n",
    "SELECT r.*\n",
    "FROM Rates r"
   ]
  },
  {
   "cell_type": "markdown",
   "metadata": {
    "id": "TIi_zxg4foxP"
   },
   "source": [
    "What is the average rating for **each** coffee?\n",
    "\n",
    "Enter your prediction, then run the query."
   ]
  },
  {
   "cell_type": "markdown",
   "metadata": {
    "id": "_C3JvsF1foxP"
   },
   "source": [
    "I predict:\n"
   ]
  },
  {
   "cell_type": "code",
   "execution_count": null,
   "metadata": {
    "id": "QEx356IkfoxP"
   },
   "outputs": [],
   "source": [
    "%%sql\n",
    "SELECT r.coffee, AVG (r.score)\n",
    "FROM Rates r\n",
    "GROUP BY r.coffee"
   ]
  },
  {
   "cell_type": "markdown",
   "metadata": {
    "id": "A80y4yuOfoxQ"
   },
   "source": [
    "* This first groups the relation into subgroups\n",
    "* Every tuple in the subgroup has the same value for r.coffee\n",
    "* Then the aggregate runs over each subgroup independently\n"
   ]
  },
  {
   "cell_type": "markdown",
   "metadata": {
    "id": "pTyKdk-NB4O2"
   },
   "source": [
    "What is each drinker's average coffee rating?"
   ]
  },
  {
   "cell_type": "code",
   "execution_count": null,
   "metadata": {
    "id": "gzNQBtBSBUoA"
   },
   "outputs": [],
   "source": [
    "%%sql\n",
    "SELECT r.drinker, AVG(r.score) AS avgScore\n",
    "FROM Rates r\n",
    "GROUP BY r.drinker"
   ]
  },
  {
   "cell_type": "markdown",
   "metadata": {
    "id": "BqnkHfSCfoxQ"
   },
   "source": [
    "### GROUP BY\n",
    "\n",
    "1. Sorts the data into groups, by the specified attributes\n",
    "\n",
    "1. Computes the aggregate function on each group\n",
    "\n",
    "### HAVING\n",
    "\n",
    "The ```HAVING``` clause applies a selection to each group\n"
   ]
  },
  {
   "cell_type": "markdown",
   "metadata": {
    "id": "GVTw2XdHfoxQ"
   },
   "source": [
    "### GROUP BY and HAVING example\n",
    "\n",
    " What is the highest rated type of coffee, on average, considering only coffees that have at least 3 ratings?\n",
    "  "
   ]
  },
  {
   "cell_type": "code",
   "execution_count": null,
   "metadata": {
    "id": "IgePRwjDfoxQ"
   },
   "outputs": [],
   "source": [
    "%%sql\n",
    "DROP VIEW IF EXISTS COFFEE_AVG_RATING;\n",
    "CREATE VIEW COFFEE_AVG_RATING AS\n",
    "   SELECT r.coffee, AVG (r.score) AS avgScore\n",
    "   FROM Rates r\n",
    "   GROUP BY r.coffee;\n",
    "    \n",
    "SELECT a.coffee\n",
    "FROM COFFEE_AVG_RATING a\n",
    "WHERE a.avgScore = (SELECT MAX(a.avgScore)\n",
    "                      FROM COFFEE_AVG_RATING a)\n"
   ]
  },
  {
   "cell_type": "markdown",
   "metadata": {
    "id": "VjY4s2a9foxQ"
   },
   "source": [
    "Now check for at least 3 ratings."
   ]
  },
  {
   "cell_type": "code",
   "execution_count": null,
   "metadata": {
    "id": "Twq9HCExfoxR"
   },
   "outputs": [],
   "source": [
    "%%sql\n",
    "DROP VIEW IF EXISTS COFFEE_AVG_RATING;\n",
    "CREATE VIEW COFFEE_AVG_RATING AS\n",
    "   SELECT r.coffee, AVG(r.score) AS avgScore\n",
    "   FROM Rates r\n",
    "   GROUP BY COFFEE\n",
    "   HAVING COUNT(*) >= 3"
   ]
  },
  {
   "cell_type": "markdown",
   "metadata": {
    "id": "jbOu38pwfoxR"
   },
   "source": [
    "and rerun the query:"
   ]
  },
  {
   "cell_type": "code",
   "execution_count": null,
   "metadata": {
    "id": "bEZ13Dv5foxR"
   },
   "outputs": [],
   "source": [
    "%%sql\n",
    "SELECT a.coffee\n",
    "FROM COFFEE_AVG_RATING a\n",
    "WHERE a.avgScore = (SELECT MAX(a.avgScore)\n",
    "                      FROM COFFEE_AVG_RATING a)\n"
   ]
  },
  {
   "cell_type": "markdown",
   "metadata": {
    "id": "P7KMPhb3foxR"
   },
   "source": [
    "### Revisit subquery in FROM clause\n",
    "\n",
    "These subqueries can be complex. \n",
    "\n",
    " What is the highest rated coffee, on average?"
   ]
  },
  {
   "cell_type": "code",
   "execution_count": null,
   "metadata": {
    "id": "zVu7bOyPfoxR"
   },
   "outputs": [],
   "source": [
    "%%sql\n",
    "SELECT a.coffee\n",
    "FROM (SELECT r.coffee, AVG (r.score) AS AVG_RATING\n",
    "      FROM Rates r\n",
    "      GROUP BY r.coffee) a\n",
    "WHERE a.AVG_RATING = (SELECT MAX(a.AVG_RATING)\n",
    "                      FROM (SELECT r.coffee, AVG (r.score) \n",
    "                               AS AVG_RATING\n",
    "                            FROM Rates r\n",
    "                            GROUP BY r.coffee) a)\n"
   ]
  },
  {
   "cell_type": "markdown",
   "metadata": {
    "id": "xo50YXH1foxS"
   },
   "source": [
    "Let's rewrite it using a VIEW:"
   ]
  },
  {
   "cell_type": "code",
   "execution_count": null,
   "metadata": {
    "id": "XGBvi-NXfoxS"
   },
   "outputs": [],
   "source": [
    "%%sql\n",
    "DROP VIEW IF EXISTS COFFEE_AVG_RATING;\n",
    "CREATE VIEW COFFEE_AVG_RATING AS\n",
    "SELECT r.coffee, AVG (r.score) AS avgScore\n",
    "FROM Rates r\n",
    "GROUP BY r.coffee;\n",
    "\n",
    "SELECT a.coffee\n",
    "FROM COFFEE_AVG_RATING a\n",
    "WHERE a.avgScore = (SELECT MAX(a.avgScore)\n",
    "                      FROM COFFEE_AVG_RATING a);\n"
   ]
  }
 ],
 "metadata": {
  "colab": {
   "collapsed_sections": [],
   "name": "SQL3Colab.ipynb",
   "provenance": []
  },
  "kernelspec": {
   "display_name": "Python 3",
   "language": "python",
   "name": "python3"
  },
  "language_info": {
   "codemirror_mode": {
    "name": "ipython",
    "version": 3
   },
   "file_extension": ".py",
   "mimetype": "text/x-python",
   "name": "python",
   "nbconvert_exporter": "python",
   "pygments_lexer": "ipython3",
   "version": "3.8.8"
  }
 },
 "nbformat": 4,
 "nbformat_minor": 1
}
