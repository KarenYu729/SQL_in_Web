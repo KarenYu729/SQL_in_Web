{
 "cells": [
  {
   "cell_type": "markdown",
   "metadata": {
    "id": "_QvjxSebgXjq"
   },
   "source": [
    "# SQL Set operations and subqueries\n",
    "This notebook provides commands from the SQL2 lecture\n",
    "\n",
    "\n",
    "## Initialization\n",
    "\n",
    "Run the next cell to set up PostgreSQL"
   ]
  },
  {
   "cell_type": "code",
   "execution_count": null,
   "metadata": {},
   "outputs": [],
   "source": [
    "# install\n",
    "!pip install psycopg2-binary\n",
    "!apt install postgresql postgresql-contrib &>log"
   ]
  },
  {
   "cell_type": "markdown",
   "metadata": {
    "id": "uk3qi9m0gXjv"
   },
   "source": [
    "## Connect to a database \n"
   ]
  },
  {
   "cell_type": "code",
   "execution_count": null,
   "metadata": {
    "colab": {
     "base_uri": "https://localhost:8080/",
     "height": 191
    },
    "id": "jtg-nWocgXjw",
    "outputId": "a820e70f-c785-4576-9199-47bdc0dd1874"
   },
   "outputs": [],
   "source": [
    "# Set your database configuation information\n",
    "# set this value to your database's username\n",
    "dbuser = \"netId\"\n",
    "# set this value to your database's name\n",
    "dbName = \"netIddb\"\n",
    "# set this value to your database's port\n",
    "port = 5432\n",
    "# set this value to your database's endpoint\n",
    "endpoint = \"postgres.clear.rice.edu\"\n",
    "\n",
    "# build the connection string\n",
    "def make_conn_str(dbuser, password, endpoint, port, dbName):\n",
    "\n",
    "    return f\"postgresql+psycopg2://{dbuser}:{password}@{endpoint}:{port}/{dbName}\"\n",
    "\n",
    "        \n",
    "import getpass\n",
    "password = getpass.getpass()"
   ]
  },
  {
   "cell_type": "code",
   "execution_count": null,
   "metadata": {},
   "outputs": [],
   "source": [
    "# set connection\n",
    "%load_ext sql\n",
    "conn_str = make_conn_str(dbuser, password,endpoint, port, dbName)\n",
    "# Limit queries to 100 results. Increase this value if needed, but recognize that your JN will increase in size as well. \n",
    "%config SqlMagic.displaylimit=100\n",
    "%sql $conn_str"
   ]
  },
  {
   "cell_type": "markdown",
   "metadata": {
    "id": "bd_zMwqwgXjw"
   },
   "source": [
    "### Create the tables\n"
   ]
  },
  {
   "cell_type": "code",
   "execution_count": null,
   "metadata": {
    "colab": {
     "base_uri": "https://localhost:8080/"
    },
    "id": "rWdVGHrzgXjx",
    "outputId": "8f42544e-337f-4ca0-bbcd-12a10a80372d"
   },
   "outputs": [],
   "source": [
    "%%sql\n",
    "DROP TABLE IF EXISTS Frequents;\n",
    "CREATE TABLE Frequents\n",
    "(\n",
    "    drinker VARCHAR(50) NOT NULL,\n",
    "    cafe VARCHAR(50) NOT NULL,\n",
    "    PRIMARY KEY (drinker, cafe)\n",
    ");\n",
    "\n",
    "DROP TABLE IF EXISTS Likes;\n",
    "CREATE TABLE Likes\n",
    "(\n",
    "    drinker VARCHAR(50) NOT NULL,\n",
    "    coffee VARCHAR(50) NOT NULL,\n",
    "    PRIMARY KEY (drinker, coffee)\n",
    ");\n",
    "\n",
    "\n",
    "DROP TABLE IF EXISTS Serves;\n",
    "CREATE TABLE Serves\n",
    "(\n",
    "    cafe VARCHAR(50) NOT NULL,\n",
    "    coffee VARCHAR(50)  NOT NULL,\n",
    "    PRIMARY KEY (cafe, coffee)\n",
    ");\n",
    "\n",
    "DROP TABLE IF EXISTS Rates;\n",
    "CREATE TABLE Rates\n",
    "(\n",
    "    drinker VARCHAR(50) NOT NULL,\n",
    "    coffee VARCHAR(50) NOT NULL,\n",
    "    score INTEGER NOT NULL\n",
    ");\n",
    "\n"
   ]
  },
  {
   "cell_type": "markdown",
   "metadata": {
    "id": "81VY5iTEgXjx"
   },
   "source": [
    "Load some data"
   ]
  },
  {
   "cell_type": "code",
   "execution_count": null,
   "metadata": {
    "colab": {
     "base_uri": "https://localhost:8080/"
    },
    "id": "JRu_t87pgXjx",
    "outputId": "6af2e466-23cb-4284-e5ce-08c107421d73"
   },
   "outputs": [],
   "source": [
    "%%sql\n",
    "DELETE FROM Frequents;\n",
    "DELETE FROM Likes;\n",
    "DELETE FROM Serves;\n",
    "DELETE FROM Rates;\n",
    "\n",
    "INSERT INTO Frequents VALUES \n",
    "('Chris', 'A Cafe'),\n",
    "('Chris', 'Double Trouble'),\n",
    "('Risa', 'Brew Joint'),\n",
    "('Risa', 'Java Lava'),\n",
    "('Ying', 'Java Lava'),\n",
    "('Risa', 'Double Trouble');\n",
    "\n",
    "INSERT INTO Likes VALUES \n",
    "('Chris', 'Drip'),\n",
    "('Chris', 'Espresso'),\n",
    "('Risa', 'Cold Brew'),\n",
    "('Risa', 'Drip'),\n",
    "('Risa', 'Espresso'),\n",
    "('Carlos', 'Cappuccino'),\n",
    "('Ying', 'Cold Brew'),\n",
    "('Ying', 'Drip'),\n",
    "('Ying', 'Espresso'),\n",
    "('Ying', 'Cappuccino');\n",
    "\n",
    "INSERT INTO Serves VALUES \n",
    "('A Cafe', 'Drip'),\n",
    "('A Cafe', 'Espresso'),\n",
    "('A Cafe', 'Cold Brew'),\n",
    "('Brew Joint', 'Espresso'),\n",
    "('Double Trouble', 'Espresso'),\n",
    "('Double Trouble', 'Cold Brew');\n",
    "\n",
    "INSERT INTO Rates VALUES\n",
    "('Risa', 'Cold Brew', 5),\n",
    "('Risa', 'Drip', 3),\n",
    "('Risa', 'Espresso', 4),\n",
    "('Chris', 'Espresso', 2),\n",
    "('Chris', 'Drip', 1),\n",
    "('Ying', 'Drip', 1);\n",
    "\n"
   ]
  },
  {
   "cell_type": "markdown",
   "metadata": {
    "id": "wy140whVgXjy"
   },
   "source": [
    "## UNION and UNION ALL\n",
    "\n",
    "## UNION "
   ]
  },
  {
   "cell_type": "code",
   "execution_count": null,
   "metadata": {
    "colab": {
     "base_uri": "https://localhost:8080/",
     "height": 158
    },
    "id": "FCuK2KJxgXjy",
    "outputId": "5d4b11ed-70ab-412f-d186-ff4a0ca130e9"
   },
   "outputs": [],
   "source": [
    "%%sql\n",
    "SELECT f.Drinker\n",
    "FROM Frequents f\n",
    "UNION \n",
    "SELECT l.Drinker \n",
    "FROM Likes l;\n"
   ]
  },
  {
   "cell_type": "code",
   "execution_count": null,
   "metadata": {
    "colab": {
     "base_uri": "https://localhost:8080/",
     "height": 410
    },
    "id": "qh_eg1PLgXjy",
    "outputId": "524b2061-f390-44ed-b546-2754ba766162"
   },
   "outputs": [],
   "source": [
    "%%sql\n",
    "SELECT f.Drinker\n",
    "FROM Frequents f\n",
    "UNION ALL\n",
    "SELECT l.Drinker \n",
    "FROM LIKES l;"
   ]
  },
  {
   "cell_type": "markdown",
   "metadata": {
    "id": "E_yp4VIZgXjy"
   },
   "source": [
    "What is the difference?"
   ]
  },
  {
   "cell_type": "markdown",
   "metadata": {
    "id": "eAQ7iscggXjy"
   },
   "source": [
    "your thoughts here"
   ]
  },
  {
   "cell_type": "markdown",
   "metadata": {
    "id": "HUhEa-SggXjz"
   },
   "source": [
    "## Intersection and Difference\n",
    "\n",
    "* Intersection - Implemented via ```INNER JOIN```\n",
    "\n",
    "* Difference - Implemented via ```EXCEPT``` \n",
    "\n",
    "Write a query to find the intersection of drinkers in Likes and Frequents"
   ]
  },
  {
   "cell_type": "code",
   "execution_count": null,
   "metadata": {
    "id": "u44WfYOTgXjz"
   },
   "outputs": [],
   "source": [
    "%%sql\n",
    "-- your code here\n"
   ]
  },
  {
   "cell_type": "markdown",
   "metadata": {
    "id": "cOpqZ0q6gXjz"
   },
   "source": [
    "Write a query to find the drinkers in Likes - (difference) the drinkers in Frequents"
   ]
  },
  {
   "cell_type": "code",
   "execution_count": null,
   "metadata": {
    "id": "jgKooObWgXjz"
   },
   "outputs": [],
   "source": [
    "%%sql\n",
    "-- your code here\n"
   ]
  },
  {
   "cell_type": "markdown",
   "metadata": {
    "id": "xwiDQfrLgXj0"
   },
   "source": [
    "## Subqueries\n",
    "\n",
    "### Subqueries returning a single value / scalar\n",
    "\n",
    "Is the highest score for drinker Chris higher than 4?\n"
   ]
  },
  {
   "cell_type": "code",
   "execution_count": null,
   "metadata": {
    "id": "Qjj2GYVSgXj0"
   },
   "outputs": [],
   "source": [
    "%%sql\n",
    "SELECT (SELECT r.score FROM RATES r WHERE r.drinker = 'Chris' ORDER BY r.score DESC LIMIT 1) > 4 gt4"
   ]
  },
  {
   "cell_type": "markdown",
   "metadata": {
    "id": "sdx71pRFgXj1"
   },
   "source": [
    "### Subqueries in the WHERE clause\n",
    "\n",
    "Who goes to a cafe that serves 'Cold Brew'?\n",
    "\n",
    "Here is the query using ```EXISTS```"
   ]
  },
  {
   "cell_type": "code",
   "execution_count": null,
   "metadata": {
    "id": "dZrD7uBhgXj1"
   },
   "outputs": [],
   "source": [
    "%%sql\n",
    "SELECT DISTINCT f.drinker\n",
    "FROM Frequents f\n",
    "WHERE EXISTS (\n",
    "    SELECT s.cafe\n",
    "    FROM Serves s\n",
    "    WHERE f.cafe = s.cafe\n",
    "      AND s.coffee = 'Cold Brew')\n"
   ]
  },
  {
   "cell_type": "markdown",
   "metadata": {
    "id": "lTLQKBuVgXj1"
   },
   "source": [
    "Rewrite this query using a join"
   ]
  },
  {
   "cell_type": "code",
   "execution_count": null,
   "metadata": {
    "id": "aVxxNEUEgXj1"
   },
   "outputs": [],
   "source": [
    "%%sql\n",
    "SELECT DISTINCT f.drinker\n",
    "FROM Frequents f\n",
    "WHERE \n",
    "   -- your code here\n",
    "\n"
   ]
  },
  {
   "cell_type": "markdown",
   "metadata": {},
   "source": [
    "### Correlated subqueries\n",
    "\n",
    "Who frequents cafes that serve at least 3 different coffees?"
   ]
  },
  {
   "cell_type": "code",
   "execution_count": null,
   "metadata": {},
   "outputs": [],
   "source": [
    "%%sql\n",
    "SELECT DISTINCT f.drinker\n",
    "FROM Serves s JOIN Frequents f ON s.cafe = f.cafe\n",
    "WHERE (SELECT COUNT(DISTINCT coffee)\n",
    "        FROM Serves s2 WHERE s2.cafe = s.cafe) >= 3\n"
   ]
  },
  {
   "cell_type": "markdown",
   "metadata": {
    "id": "F0JsHsxsgXj2"
   },
   "source": [
    "## ```IN```\n",
    "Who likes 'Cold Brew' and 'Espresso'?"
   ]
  },
  {
   "cell_type": "code",
   "execution_count": null,
   "metadata": {
    "id": "0XEomqpPgXj2"
   },
   "outputs": [],
   "source": [
    "%%sql\n",
    "SELECT DISTINCT l.drinker\n",
    "FROM Likes l\n",
    "WHERE l.coffee = 'Cold Brew' \n",
    "    AND l.drinker IN (\n",
    "        SELECT l2.drinker \n",
    "        FROM Likes l2 \n",
    "        WHERE l2.coffee = 'Espresso')\n"
   ]
  },
  {
   "cell_type": "markdown",
   "metadata": {
    "id": "sxQBGUZugXj2"
   },
   "source": [
    "Sometimes it's easier to write these queries with a JOIN"
   ]
  },
  {
   "cell_type": "code",
   "execution_count": null,
   "metadata": {
    "id": "2PZUOzGpgXj2"
   },
   "outputs": [],
   "source": [
    "%%sql\n",
    "SELECT DISTINCT l1.drinker\n",
    "FROM Likes l1, Likes l2\n",
    "WHERE l1.drinker = l2.drinker \n",
    "     AND l1.coffee = 'Cold Brew'     \n",
    "    AND l2.coffee = 'Espresso'\n"
   ]
  },
  {
   "cell_type": "markdown",
   "metadata": {
    "id": "pkgTgpHmgXj2"
   },
   "source": [
    "## Who likes all of the coffees that Risa likes?\n",
    "\n",
    "Start by writing a query that returns all of the coffees that Risa likes"
   ]
  },
  {
   "cell_type": "code",
   "execution_count": null,
   "metadata": {
    "id": "Nn0uwBJKgXj2"
   },
   "outputs": [],
   "source": [
    "%%sql \n",
    "SELECT l2.coffee\n",
    "FROM Likes l2\n",
    "WHERE l2.drinker = 'Risa' \n"
   ]
  },
  {
   "cell_type": "markdown",
   "metadata": {
    "id": "SLxkvSDngXj3"
   },
   "source": [
    "Who likes all of the coffees that Risa likes?\n",
    "\n",
    "```\n",
    "SELECT DISTINCT l1.drinker\n",
    "FROM Likes l1\n",
    "WHERE NOT EXISTS ({a coffee Risa likes that is not also liked by l1.drinker})\n",
    "```\n",
    "\n",
    "\n",
    "Further expanding:\n",
    "\n",
    "```\n",
    "SELECT DISTINCT l1.drinker\n",
    "FROM Likes l1\n",
    "WHERE NOT EXISTS (\n",
    "    SELECT l2.coffee \n",
    "    FROM Likes l2\n",
    "    WHERE l2.drinker = 'Risa' AND l2.coffee NOT IN (\n",
    "        {the set of coffees liked by l1.drinker}))\n",
    "```\n"
   ]
  },
  {
   "cell_type": "code",
   "execution_count": null,
   "metadata": {
    "id": "p66Mm0khgXj3"
   },
   "outputs": [],
   "source": [
    "%%sql\n",
    "SELECT DISTINCT l1.drinker\n",
    "FROM Likes l1\n",
    "WHERE NOT EXISTS (\n",
    "  SELECT l2.coffee \n",
    "  FROM Likes l2\n",
    "  WHERE l2.drinker = 'Risa' \n",
    "    AND l2.coffee NOT IN (\n",
    "      SELECT l3.coffee\n",
    "      FROM LIKES l3\n",
    "      WHERE l3.drinker = l1.drinker))\n"
   ]
  },
  {
   "cell_type": "markdown",
   "metadata": {
    "id": "LdtOqIiegXj3"
   },
   "source": [
    "### SOME / ANY\n",
    "\n",
    " returns ```TRUE``` if there is at least 1 tuple in the subquery can make the boolean operation evaluate to true.\n",
    " \n",
    " Of the coffees Risa has rated, list the coffees that are not Risa’s favorite.\n",
    " \n",
    " Start with a basic query that returns the coffees that Risa likes"
   ]
  },
  {
   "cell_type": "code",
   "execution_count": null,
   "metadata": {
    "id": "P5vgc_s8gXj3"
   },
   "outputs": [],
   "source": [
    "%%sql\n",
    "SELECT r.coffee, r.score\n",
    "FROM Rates r\n",
    "WHERE r.drinker = 'Risa'"
   ]
  },
  {
   "cell_type": "markdown",
   "metadata": {
    "id": "1DYpm2owgXj3"
   },
   "source": [
    "Next, compare the scores to Risa's other scores"
   ]
  },
  {
   "cell_type": "code",
   "execution_count": null,
   "metadata": {
    "id": "cZcyWmengXj3"
   },
   "outputs": [],
   "source": [
    "%%sql\n",
    "SELECT r.coffee\n",
    "FROM Rates r\n",
    "WHERE r.drinker = 'Risa' AND r.SCORE < SOME (\n",
    "  SELECT r2.score \n",
    "  FROM Rates r2\n",
    "  WHERE r2.drinker = 'Risa' )"
   ]
  },
  {
   "cell_type": "markdown",
   "metadata": {
    "id": "ZQt0rBVogXj4"
   },
   "source": [
    "What's going on here?\n",
    "\n",
    "* The subquery returns the multiset of all the scores Risa has given to coffees\n",
    "* The r.SCORE < SOME clause evaluates to TRUE if the multiset is not empty\n"
   ]
  },
  {
   "cell_type": "markdown",
   "metadata": {
    "id": "trVsv9JMgXj4"
   },
   "source": [
    "### ALL\n",
    "\n",
    "$<$expression$>$ $<$boolOp$>$ ALL (subquery)\n",
    "\n",
    "Similar to ```SOME```\n",
    "\n",
    "$<$boolOp$>$ must evaluate to true for **everything** in the subquery\n",
    "\n",
    "RATES (DRINKER, COFFEE, SCORE)\n"
   ]
  },
  {
   "cell_type": "code",
   "execution_count": null,
   "metadata": {
    "id": "ZncoRgl7gXj4"
   },
   "outputs": [],
   "source": [
    "%%sql\n",
    "SELECT DISTINCT r.drinker\n",
    "FROM Rates r\n",
    "WHERE r.score < ALL (\n",
    " SELECT r2.score\n",
    "  FROM Rates r2\n",
    "  WHERE r2.drinker = 'Risa')"
   ]
  },
  {
   "cell_type": "markdown",
   "metadata": {
    "id": "JCIbrWxIgXj4"
   },
   "source": [
    "What does this query return? \n",
    "\n",
    "Check the Rates table to figure it out"
   ]
  },
  {
   "cell_type": "code",
   "execution_count": null,
   "metadata": {
    "id": "xCaMm7dlgXj4"
   },
   "outputs": [],
   "source": [
    "%%sql\n",
    "SELECT r.*\n",
    "FROM Rates r;"
   ]
  },
  {
   "cell_type": "markdown",
   "metadata": {},
   "source": [
    "## Subqueries in the ```SELECT``` clause\n",
    "\n",
    "Are all cafes frequented?"
   ]
  },
  {
   "cell_type": "code",
   "execution_count": null,
   "metadata": {},
   "outputs": [],
   "source": [
    "%%sql\n",
    "SELECT (SELECT COUNT(DISTINCT cafe) FROM Frequents) \n",
    "    = (SELECT COUNT(DISTINCT cafe) FROM Serves) AS allFrequented\n"
   ]
  },
  {
   "cell_type": "markdown",
   "metadata": {
    "id": "W8-4OOoBgXj4"
   },
   "source": [
    "### Subqueries in the FROM Clause\n",
    "\n",
    "* Can have a subquery in FROM clause\n",
    "* Treated as a temporary table\n",
    "* MUST be assigned an alias\n",
    "\n",
    "\n",
    "Who goes to a cafe that serves 'Cold Brew'?\n",
    "\n",
    "Old way:"
   ]
  },
  {
   "cell_type": "code",
   "execution_count": null,
   "metadata": {
    "id": "AVbpXZXZgXj4"
   },
   "outputs": [],
   "source": [
    "%%sql\n",
    "SELECT DISTINCT f.drinker\n",
    "FROM Frequents f, Serves s\n",
    "WHERE f.cafe = s.cafe \n",
    "    AND s.coffee = 'Cold Brew'\n"
   ]
  },
  {
   "cell_type": "markdown",
   "metadata": {
    "id": "nMKc-gc-gXj5"
   },
   "source": [
    "With a subquery in the FROM clause:"
   ]
  },
  {
   "cell_type": "code",
   "execution_count": null,
   "metadata": {
    "id": "HBL6jkZ7gXj5"
   },
   "outputs": [],
   "source": [
    "%%sql\n",
    "SELECT DISTINCT f.drinker\n",
    "FROM Frequents f, \n",
    "   (-- your code here) s2\n",
    "WHERE f.cafe = s2.cafe\n"
   ]
  },
  {
   "cell_type": "markdown",
   "metadata": {
    "id": "jEaSCHOogXj5"
   },
   "source": [
    "## VIEWS\n",
    "\n",
    "Can make SQL much easier to read"
   ]
  },
  {
   "cell_type": "code",
   "execution_count": null,
   "metadata": {
    "id": "_d9pLHIggXj5"
   },
   "outputs": [],
   "source": [
    "%%sql\n",
    "CREATE VIEW CB_CAFE AS\n",
    "SELECT s.cafe FROM Serves s \n",
    "    WHERE s.coffee = 'Cold Brew';\n",
    "\n",
    "SELECT DISTINCT f.drinker\n",
    "FROM Frequents f, CB_CAFE c\n",
    "WHERE f.cafe = c.cafe\n",
    "\n"
   ]
  },
  {
   "cell_type": "markdown",
   "metadata": {
    "id": "7QuX1jFrgXj5"
   },
   "source": [
    "### List the coffees that are not Risa's favorite.\n",
    "\n",
    "Create a VIEW that returns the coffees that Risa has rated"
   ]
  },
  {
   "cell_type": "code",
   "execution_count": null,
   "metadata": {
    "id": "hCSjVqqEgXj5"
   },
   "outputs": [],
   "source": [
    "%%sql"
   ]
  },
  {
   "cell_type": "markdown",
   "metadata": {
    "id": "8AcjSa5ygXj6"
   },
   "source": [
    "Now use that VIEW to list the coffees that are not Risa's favorite"
   ]
  },
  {
   "cell_type": "code",
   "execution_count": null,
   "metadata": {
    "id": "0VEKufXxgXj6"
   },
   "outputs": [],
   "source": [
    "%%sql\n",
    "\n"
   ]
  },
  {
   "cell_type": "code",
   "execution_count": null,
   "metadata": {
    "id": "sqaOtx_qgXj6"
   },
   "outputs": [],
   "source": [
    "%%sql\n"
   ]
  },
  {
   "cell_type": "markdown",
   "metadata": {
    "id": "3LGdI_OygXj6"
   },
   "source": [
    "## Clean up -- remove any views"
   ]
  },
  {
   "cell_type": "code",
   "execution_count": null,
   "metadata": {
    "id": "N7lPguQPgXj7"
   },
   "outputs": [],
   "source": []
  }
 ],
 "metadata": {
  "colab": {
   "collapsed_sections": [
    "LdtOqIiegXj3",
    "trVsv9JMgXj4",
    "W8-4OOoBgXj4",
    "7QuX1jFrgXj5"
   ],
   "name": "SQL2Colab.ipynb",
   "provenance": []
  },
  "kernelspec": {
   "display_name": "Python 3",
   "language": "python",
   "name": "python3"
  },
  "language_info": {
   "codemirror_mode": {
    "name": "ipython",
    "version": 3
   },
   "file_extension": ".py",
   "mimetype": "text/x-python",
   "name": "python",
   "nbconvert_exporter": "python",
   "pygments_lexer": "ipython3",
   "version": "3.6.13"
  }
 },
 "nbformat": 4,
 "nbformat_minor": 1
}
