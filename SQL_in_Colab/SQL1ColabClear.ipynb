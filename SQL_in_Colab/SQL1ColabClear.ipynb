{
 "cells": [
  {
   "cell_type": "markdown",
   "metadata": {
    "id": "WlraHeWfzwjq"
   },
   "source": [
    "# SQL 1\n",
    "\n",
    "This notebook provides commands from the SQL1 lecture\n",
    "\n",
    "## Initialization\n",
    "\n",
    "Run the next cell to set up PostgreSQL"
   ]
  },
  {
   "cell_type": "code",
   "execution_count": null,
   "metadata": {
    "id": "JUbHw4K7zwjw"
   },
   "outputs": [],
   "source": [
    "# install\n",
    "!pip install psycopg2-binary\n",
    "!apt install postgresql postgresql-contrib &>log"
   ]
  },
  {
   "cell_type": "markdown",
   "metadata": {
    "id": "j_o4_8vWzwjw"
   },
   "source": [
    "## Connect to a database \n"
   ]
  },
  {
   "cell_type": "code",
   "execution_count": null,
   "metadata": {
    "id": "Ams20fjyzwjx"
   },
   "outputs": [],
   "source": [
    "# Set your database configuation information\n",
    "# set this value to your database's username\n",
    "dbuser = \"netId\"\n",
    "# set this value to your database's name\n",
    "dbName = \"netIddb\"\n",
    "# set this value to your database's port\n",
    "port = 5432\n",
    "# set this value to your database's endpoint\n",
    "endpoint = \"postgres.clear.rice.edu\"\n"
   ]
  },
  {
   "cell_type": "code",
   "execution_count": null,
   "metadata": {},
   "outputs": [],
   "source": [
    "# build the connection string\n",
    "def make_conn_str(dbuser, password, endpoint, port, dbName):\n",
    "\n",
    "    return f\"postgresql+psycopg2://{dbuser}:{password}@{endpoint}:{port}/{dbName}\"\n",
    "\n",
    "        \n",
    "import getpass\n",
    "password = getpass.getpass()"
   ]
  },
  {
   "cell_type": "code",
   "execution_count": null,
   "metadata": {},
   "outputs": [],
   "source": [
    "# set connection\n",
    "%load_ext sql\n",
    "conn_str = make_conn_str(dbuser, password,endpoint, port, dbName)\n",
    "# Limit queries to 100 results. Increase this value if needed, but recognize that your JN will increase in size as well. \n",
    "%config SqlMagic.displaylimit=100\n",
    "%sql $conn_str"
   ]
  },
  {
   "cell_type": "markdown",
   "metadata": {
    "id": "sMVY_bJUzwjz"
   },
   "source": [
    "### Create the tables\n"
   ]
  },
  {
   "cell_type": "code",
   "execution_count": null,
   "metadata": {
    "id": "6ZtQHChazwjz"
   },
   "outputs": [],
   "source": [
    "%%sql\n",
    "DROP TABLE IF EXISTS Frequents;\n",
    "CREATE TABLE Frequents\n",
    "(\n",
    "    drinker VARCHAR(50) NOT NULL,\n",
    "    cafe VARCHAR(50) NOT NULL,\n",
    "    PRIMARY KEY (drinker, cafe)\n",
    ");\n",
    "\n",
    "DROP TABLE IF EXISTS Likes;\n",
    "CREATE TABLE Likes\n",
    "(\n",
    "    drinker VARCHAR(50) NOT NULL,\n",
    "    coffee VARCHAR(50) NOT NULL,\n",
    "    PRIMARY KEY (drinker, coffee)\n",
    ");\n",
    "\n",
    "\n",
    "DROP TABLE IF EXISTS Serves;\n",
    "CREATE TABLE Serves\n",
    "(\n",
    "    cafe VARCHAR(50) NOT NULL,\n",
    "    coffee VARCHAR(50)  NOT NULL,\n",
    "    PRIMARY KEY (cafe, coffee)\n",
    ");\n",
    "\n",
    "DROP TABLE IF EXISTS Rates;\n",
    "CREATE TABLE Rates\n",
    "(\n",
    "    drinker VARCHAR(50) NOT NULL,\n",
    "    coffee VARCHAR(50) NOT NULL,\n",
    "    score INTEGER NOT NULL\n",
    ");\n",
    "\n",
    "\n",
    "DROP TABLE IF EXISTS Enroll;\n",
    "DROP TABLE IF EXISTS Student;\n",
    "DROP TABLE IF EXISTS Course;\n",
    "DROP TABLE IF EXISTS Athlete;\n",
    "DROP TABLE IF EXISTS Team;\n",
    "DROP TABLE IF EXISTS Faculty;\n",
    "\n",
    "CREATE TABLE Student\n",
    "(\n",
    "    netId VARCHAR(50) NOT NULL,\n",
    "    name VARCHAR(50)  NOT NULL,\n",
    "    PRIMARY KEY (netId)\n",
    ");\n",
    "CREATE TABLE Course\n",
    "(\n",
    "    crn INTEGER NOT NULL,\n",
    "    courseName VARCHAR(50)  NOT NULL,\n",
    "    PRIMARY KEY (crn)\n",
    ");\n",
    "\n",
    "\n",
    "CREATE TABLE Enroll\n",
    "(\n",
    "    netId VARCHAR(50) NOT NULL,\n",
    "    crn INTEGER NOT NULL,\n",
    "    PRIMARY KEY (netId, crn),\n",
    "    FOREIGN KEY (netId) REFERENCES Student(netId),\n",
    "    FOREIGN KEY (crn) REFERENCES Course(crn)\n",
    ");\n",
    "\n",
    "CREATE TABLE Team\n",
    "(    \n",
    "    teamName VARCHAR(30) NOT NULL,\n",
    "    captainId VARCHAR(15) NULL,\n",
    "    PRIMARY KEY (teamname)\n",
    ");\n",
    "\n",
    "CREATE TABLE Faculty(\n",
    " netId VARCHAR(10),\n",
    " name VARCHAR(10),\n",
    " mgrId VARCHAR(10)\n",
    ");"
   ]
  },
  {
   "cell_type": "markdown",
   "metadata": {
    "id": "o6aTo-X2zwj0"
   },
   "source": [
    "Load some data"
   ]
  },
  {
   "cell_type": "code",
   "execution_count": null,
   "metadata": {
    "id": "ciVQT0Tazwj0"
   },
   "outputs": [],
   "source": [
    "%%sql\n",
    "DELETE FROM Frequents;\n",
    "DELETE FROM Likes;\n",
    "DELETE FROM Serves;\n",
    "DELETE FROM Enroll;\n",
    "DELETE FROM Student;\n",
    "DELETE FROM Course;\n",
    "DELETE FROM Team;\n",
    "DELETE FROM Faculty;\n",
    "\n",
    "INSERT INTO Frequents(drinker, cafe) VALUES \n",
    "('Chris', 'A Cafe'),\n",
    "('Chris', 'Double Trouble'),\n",
    "('Risa', 'Brew Joint'),\n",
    "('Risa', 'Java Lava'),\n",
    "('Risa', 'Double Trouble');\n",
    "\n",
    "INSERT INTO Likes(drinker, coffee) VALUES \n",
    "('Chris', 'Drip'),\n",
    "('Chris', 'Espresso'),\n",
    "('Risa', 'Cold Brew'),\n",
    "('Risa', 'Drip');\n",
    "\n",
    "INSERT INTO Serves(cafe, coffee) VALUES \n",
    "('A Cafe', 'Espresso'),\n",
    "('A Cafe', 'Cold Brew'),\n",
    "('Brew Joint', 'Espresso'),\n",
    "('Double Trouble', 'Espresso'),\n",
    "('Double Trouble', 'Cold Brew');\n",
    "\n",
    "INSERT INTO Rates VALUES\n",
    "('Risa', 'Cold Brew', 5),\n",
    "('Risa', 'Drip', 3),\n",
    "('Risa', 'Espresso', 4),\n",
    "('Chris', 'Espresso', 2),\n",
    "('Chris', 'Drip', 1),\n",
    "('Ying', 'Drip', 1);\n",
    "\n",
    "\n",
    "INSERT INTO Student(netId, name) VALUES\n",
    "('rbm2', 'Risa'),\n",
    "('abc1', 'Andre'),\n",
    "('bcd2', 'Betty'),\n",
    "('cde4', 'Chris');\n",
    "\n",
    "INSERT INTO Course(crn, courseName) VALUES\n",
    "(123, 'COMP 430'),\n",
    "(234, 'COMP 533'),\n",
    "(345, 'COMP 530');\n",
    "\n",
    "INSERT INTO Enroll(crn, netId) VALUES\n",
    "(123, 'abc1'),\n",
    "(123, 'cde4'),\n",
    "(345, 'abc1');\n",
    "\n",
    "INSERT INTO Team(captainId, teamname) VALUES\n",
    "('abc1', 'Tigers'),\n",
    "('cde4', 'Knights'),\n",
    "('msh2', 'Owls');\n",
    "\n",
    "\n",
    "INSERT INTO Faculty(netId, name, mgrId) VALUES\n",
    "('rbm2', 'Risa', 'abc1'),\n",
    "('abc1', 'Andre', 'bcd2'),\n",
    "('bcd2', 'Betty', 'cde4'),\n",
    "('cde4', 'Chris', NULL);\n"
   ]
  },
  {
   "cell_type": "markdown",
   "metadata": {
    "id": "EPqm8NXXzwj3"
   },
   "source": [
    "Select clauses can also contain functions. One commonly used function is \n",
    "\n",
    "```NOW()``` \n",
    "\n",
    "which returns the current date and time.\n",
    "\n",
    "Since this function doesn't draw from a relation, you don't even need a FROM clause:"
   ]
  },
  {
   "cell_type": "code",
   "execution_count": null,
   "metadata": {
    "id": "Fg4V0Glozwj4"
   },
   "outputs": [],
   "source": [
    "%%sql \n",
    "SELECT NOW()"
   ]
  },
  {
   "cell_type": "markdown",
   "metadata": {},
   "source": [
    "### The FROM clause"
   ]
  },
  {
   "cell_type": "code",
   "execution_count": null,
   "metadata": {},
   "outputs": [],
   "source": [
    "%%sql\n",
    "SELECT f.*\n",
    "FROM Frequents AS f"
   ]
  },
  {
   "cell_type": "markdown",
   "metadata": {
    "id": "UcEuJDs9LV2c"
   },
   "source": [
    "### The WHERE Clause\n",
    "\n",
    "The WHERE clause can contain many things:\n",
    "* Conditions\n",
    "* JOIN conditions\n",
    "* Selection (RA) clauses\n",
    "* Subqueries\n",
    "* ...\n",
    "\n",
    "One useful clause uses ```LIKE``` which does a string pattern match. ```%``` is a wildcard that matches any number of characters.\n",
    "\n",
    "Write a query to return the drinkers whose names start with 'C'"
   ]
  },
  {
   "cell_type": "code",
   "execution_count": null,
   "metadata": {
    "id": "k8V-ABGGLict"
   },
   "outputs": [],
   "source": [
    "%%sql\n",
    "SELECT *\n",
    "FROM Likes l\n",
    "WHERE l.drinker -- your code here"
   ]
  },
  {
   "cell_type": "markdown",
   "metadata": {
    "id": "bz2UBVjmLll6"
   },
   "source": [
    "Write a query that returns the Rates scores ```between``` 1 and 3"
   ]
  },
  {
   "cell_type": "code",
   "execution_count": null,
   "metadata": {
    "id": "gM_WZSB_LpDj"
   },
   "outputs": [],
   "source": [
    "%%sql\n",
    "-- your code here\n"
   ]
  },
  {
   "cell_type": "markdown",
   "metadata": {
    "id": "zp_2BH_JLwoR"
   },
   "source": [
    "Here's an example of ```IN```. How does it work?"
   ]
  },
  {
   "cell_type": "code",
   "execution_count": null,
   "metadata": {
    "id": "JT9Ko6MZLx4E"
   },
   "outputs": [],
   "source": [
    "%%sql\n",
    "SELECT *\n",
    "FROM Frequents f\n",
    "WHERE f.drinker = 'Risa' AND f.cafe IN ('Double Trouble', 'Coffee House')"
   ]
  },
  {
   "cell_type": "markdown",
   "metadata": {
    "id": "oGAgyJk6L8LA"
   },
   "source": [
    "-- your thoughts here"
   ]
  },
  {
   "cell_type": "markdown",
   "metadata": {
    "id": "6PPHPidIL-lH"
   },
   "source": [
    "## Joins"
   ]
  },
  {
   "cell_type": "markdown",
   "metadata": {
    "id": "NzAbNbQAJ_5w"
   },
   "source": [
    "### CROSS JOIN\n",
    "\n",
    "Cartesian product, returns all possible pairings"
   ]
  },
  {
   "cell_type": "code",
   "execution_count": null,
   "metadata": {
    "id": "KipBvy-JKFZb"
   },
   "outputs": [],
   "source": [
    "%%sql\n",
    "SELECT s.netId, c.crn\n",
    "FROM Student S CROSS JOIN Course c"
   ]
  },
  {
   "cell_type": "markdown",
   "metadata": {
    "id": "pVarQR_dzwj5"
   },
   "source": [
    "### INNER JOIN \n",
    "\n",
    "Who (name) has enrolled in which course(s) (name)?"
   ]
  },
  {
   "cell_type": "code",
   "execution_count": null,
   "metadata": {
    "id": "r8c7K0zkzwj5"
   },
   "outputs": [],
   "source": [
    "%%sql\n",
    "SELECT s.name, c.courseName\n",
    "FROM Student s INNER JOIN Enroll e ON s.netId = e.netId INNER JOIN Course c on e.crn = c.crn\n"
   ]
  },
  {
   "cell_type": "markdown",
   "metadata": {
    "id": "TCKDA8x7zwj5"
   },
   "source": [
    "Rewrite this query using natural joins"
   ]
  },
  {
   "cell_type": "code",
   "execution_count": null,
   "metadata": {
    "id": "I00XY2E4zwj6"
   },
   "outputs": [],
   "source": [
    "%%sql\n",
    "SELECT \n",
    "FROM "
   ]
  },
  {
   "cell_type": "markdown",
   "metadata": {
    "id": "m6aXsGAKAQWA"
   },
   "source": [
    "Are the results any different? If so, in what way(s)?"
   ]
  },
  {
   "cell_type": "markdown",
   "metadata": {
    "id": "dS8h01rNAZ5O"
   },
   "source": [
    "your thoughts here"
   ]
  },
  {
   "cell_type": "markdown",
   "metadata": {
    "id": "TBuN8ByiANqq"
   },
   "source": [
    "Rewrite this query using natural joins"
   ]
  },
  {
   "cell_type": "code",
   "execution_count": null,
   "metadata": {
    "id": "DBB8d1PbKT7O"
   },
   "outputs": [],
   "source": [
    "%%sql\n",
    "-- your query here"
   ]
  },
  {
   "cell_type": "markdown",
   "metadata": {
    "id": "m7mnG78E_7sA"
   },
   "source": [
    "Compare the inner join query to this version using a cross join"
   ]
  },
  {
   "cell_type": "code",
   "execution_count": null,
   "metadata": {
    "id": "KPq1T3Lx_7sD"
   },
   "outputs": [],
   "source": [
    "%%sql\n",
    "SELECT s.name, c.courseName\n",
    "FROM Student s, Enroll e, Course c\n",
    "WHERE s.netId = e.netId\n",
    "  AND e.crn = c.crn"
   ]
  },
  {
   "cell_type": "markdown",
   "metadata": {
    "id": "yLffs1EFzwj6"
   },
   "source": [
    "Are the results any different? If so, in what way(s)?"
   ]
  },
  {
   "cell_type": "markdown",
   "metadata": {
    "id": "yopYU5a0AXMC"
   },
   "source": [
    "your thoughts here"
   ]
  },
  {
   "cell_type": "markdown",
   "metadata": {
    "id": "ifheyqiezwj6"
   },
   "source": [
    "### Left / Right  outer join\n",
    "\n",
    "* Used to match up tuples from different relations\n",
    "* Includes all the tuples from the \"outer\" side \n",
    "* If there is no matching tuple, assigns NULLs\n",
    "* Returns a relation with all the attributes of R $\\bullet$ all the attributes of S\n",
    "* Tip: Pick one direction and use it consistently\n",
    "\n",
    "Which students (name) haven't enrolled in any courses?"
   ]
  },
  {
   "cell_type": "code",
   "execution_count": null,
   "metadata": {
    "id": "fK42GrKVzwj6"
   },
   "outputs": [],
   "source": [
    "%%sql\n",
    "SELECT s.name\n",
    "FROM Student s LEFT OUTER JOIN Enroll e ON s.netId = e.netId\n",
    "WHERE e.crn IS NULL\n"
   ]
  },
  {
   "cell_type": "markdown",
   "metadata": {
    "id": "6N2bKwELzwj6"
   },
   "source": [
    "Rewrite this query as a Right Outer Join"
   ]
  },
  {
   "cell_type": "code",
   "execution_count": null,
   "metadata": {
    "id": "gOAb3Xjtzwj6"
   },
   "outputs": [],
   "source": [
    "%%sql\n",
    " \n",
    "\n"
   ]
  },
  {
   "cell_type": "markdown",
   "metadata": {
    "id": "V_kuR8Bbzwj7"
   },
   "source": [
    "What does this expression represent?"
   ]
  },
  {
   "cell_type": "code",
   "execution_count": null,
   "metadata": {
    "id": "h7iWfpX5zwj7"
   },
   "outputs": [],
   "source": [
    "%%sql\n",
    "SELECT *\n",
    "FROM Enroll e RIGHT OUTER JOIN Course c ON e.crn = c.crn\n",
    "WHERE e.crn IS NULL\n"
   ]
  },
  {
   "cell_type": "markdown",
   "metadata": {
    "id": "HX0ujcQmClMM"
   },
   "source": [
    "your thoughts here"
   ]
  },
  {
   "cell_type": "markdown",
   "metadata": {
    "id": "eCmLIO9hzwj7"
   },
   "source": [
    "## Full Outer Join\n",
    "\n",
    "Let's use the Student and Team tables for this example:"
   ]
  },
  {
   "cell_type": "code",
   "execution_count": null,
   "metadata": {
    "id": "QEcOlP18zwj7"
   },
   "outputs": [],
   "source": [
    "%%sql\n",
    "SELECT *\n",
    "FROM Student;"
   ]
  },
  {
   "cell_type": "code",
   "execution_count": null,
   "metadata": {
    "id": "1dIsc8eCzwj7"
   },
   "outputs": [],
   "source": [
    "%%sql\n",
    "SELECT *\n",
    "FROM Team;"
   ]
  },
  {
   "cell_type": "markdown",
   "metadata": {
    "id": "sDPkrxA0zwj7"
   },
   "source": [
    "Full Outer Join example\n"
   ]
  },
  {
   "cell_type": "code",
   "execution_count": null,
   "metadata": {
    "id": "fu3nmrjAzwj7"
   },
   "outputs": [],
   "source": [
    "%%sql\n",
    "SELECT *\n",
    "FROM Student s FULL OUTER JOIN TEAM t ON s.netId = t.captainId\n"
   ]
  },
  {
   "cell_type": "markdown",
   "metadata": {
    "id": "P6L0IAWOzwj8"
   },
   "source": [
    "## Self Join\n",
    "\n",
    "* Not a new type of join, but a special case\n",
    "* Used to match up tuples from relation R back to itself\n",
    "* Any type of JOIN may be used \n",
    "* Returns a relation with all the attributes of R $\\bullet$ all the attributes of R"
   ]
  },
  {
   "cell_type": "code",
   "execution_count": null,
   "metadata": {
    "id": "dm8tIAGTzwj8"
   },
   "outputs": [],
   "source": [
    "%%sql\n",
    "SELECT *\n",
    "FROM Faculty;"
   ]
  },
  {
   "cell_type": "code",
   "execution_count": null,
   "metadata": {
    "id": "gPdx-oOKzwj8"
   },
   "outputs": [],
   "source": [
    "%%sql\n",
    "SELECT f.name, Mgr.Name\n",
    "FROM Faculty f JOIN Faculty Mgr ON f.mgrId = Mgr.netId"
   ]
  },
  {
   "cell_type": "markdown",
   "metadata": {
    "id": "NhSVJfBrzwj8"
   },
   "source": [
    "What does this expression represent?\n",
    "\n",
    "A Every faculty member paired with every manager\n",
    "\n",
    "B Every faculty member who has a manager, paired with that manager"
   ]
  },
  {
   "cell_type": "markdown",
   "metadata": {
    "id": "EjQy85zAzwj0"
   },
   "source": [
    "## Practice queries\n",
    "\n",
    "Who goes to a cafe serving Cold Brew? "
   ]
  },
  {
   "cell_type": "code",
   "execution_count": null,
   "metadata": {
    "id": "mT2ksKijzwj0"
   },
   "outputs": [],
   "source": [
    "%%sql\n",
    "SELECT DISTINCT f.drinker\n",
    "FROM Frequents AS f JOIN Serves AS s ON f.cafe = s.cafe \n",
    "WHERE  s.coffee = 'Cold Brew';\n"
   ]
  },
  {
   "cell_type": "markdown",
   "metadata": {
    "id": "2FHCJevMzwj0"
   },
   "source": [
    "Try it without the 'DISTINCT'"
   ]
  },
  {
   "cell_type": "code",
   "execution_count": null,
   "metadata": {
    "id": "33y0Ji1uzwj1"
   },
   "outputs": [],
   "source": [
    "%%sql\n",
    "SELECT f.drinker\n",
    "FROM Frequents AS f JOIN Serves AS s ON f.cafe = s.cafe \n",
    "WHERE  s.coffee = 'Cold Brew';"
   ]
  },
  {
   "cell_type": "markdown",
   "metadata": {
    "id": "AZYwH44Bzwj1"
   },
   "source": [
    "What changed? Explain in the next cell."
   ]
  },
  {
   "cell_type": "markdown",
   "metadata": {
    "id": "gyjCX5Auzwj1"
   },
   "source": [
    "your thoughts here"
   ]
  },
  {
   "cell_type": "markdown",
   "metadata": {
    "id": "om7yVpCLzwj2"
   },
   "source": [
    "This query can be written another way, with the JOIN condition in the WHERE clause:"
   ]
  },
  {
   "cell_type": "code",
   "execution_count": null,
   "metadata": {
    "id": "conXg19gzwj2"
   },
   "outputs": [],
   "source": [
    "%%sql\n",
    "SELECT f.drinker \n",
    "FROM Frequents  AS f,  Serves  AS s \n",
    "WHERE f.cafe = s.cafe AND  s.coffee = 'Cold Brew'"
   ]
  },
  {
   "cell_type": "markdown",
   "metadata": {
    "id": "Km-PVqbMzwj1"
   },
   "source": [
    "Let's rename an attribute. \n",
    "\n",
    "Here, since the name we want to use has a space in it, we use double quotes."
   ]
  },
  {
   "cell_type": "code",
   "execution_count": null,
   "metadata": {
    "id": "YOLOEtfhzwj1"
   },
   "outputs": [],
   "source": [
    "%%sql\n",
    "SELECT DISTINCT f.drinker AS \"Best Customers\"\n",
    "FROM Frequents  AS f JOIN Serves  AS s ON f.cafe = s.cafe \n",
    "WHERE  s.coffee = 'Cold Brew';"
   ]
  },
  {
   "cell_type": "markdown",
   "metadata": {
    "id": "jVtk5P8kzwj2"
   },
   "source": [
    "What is the ```AS``` doing? \n",
    "\n",
    "Note that \"Best Customers\" is in double quotes because of the space in the name. Typically, we use single quotes for text strings."
   ]
  },
  {
   "cell_type": "markdown",
   "metadata": {
    "id": "Bv3J_wPkDseT"
   },
   "source": [
    "your thoughts here"
   ]
  },
  {
   "cell_type": "markdown",
   "metadata": {
    "id": "OBvQadcIzwj2"
   },
   "source": [
    "What kind of join are we using?\n",
    "\n",
    "A Cartesian product / Cross join\n",
    "\n",
    "B Theta join\n",
    "\n",
    "C Natural join"
   ]
  },
  {
   "cell_type": "markdown",
   "metadata": {
    "id": "te_ydokazwj2"
   },
   "source": [
    "your thoughts here"
   ]
  },
  {
   "cell_type": "markdown",
   "metadata": {},
   "source": [
    "### LIMIT and ORDER BY"
   ]
  },
  {
   "cell_type": "code",
   "execution_count": null,
   "metadata": {},
   "outputs": [],
   "source": [
    "%%sql\n",
    "SELECT r.score \n",
    "FROM Rates r\n",
    "WHERE r.coffee = 'Cold Brew'\n",
    "ORDER BY r.score DESC LIMIT 1\n"
   ]
  },
  {
   "cell_type": "markdown",
   "metadata": {
    "id": "3T1W0zc-zwj2"
   },
   "source": [
    "### The SELECT clause can contain many things.\n",
    "\n",
    "Complete the following query to return ALL of the attributes from all of the relations"
   ]
  },
  {
   "cell_type": "code",
   "execution_count": null,
   "metadata": {
    "id": "Xj7fh_Sfzwj3"
   },
   "outputs": [],
   "source": [
    "%%sql\n",
    "SELECT \n",
    "FROM Frequents  AS f,  Serves AS s\n",
    "WHERE f.cafe = s.cafe AND  s.coffee = 'Cold Brew'"
   ]
  },
  {
   "cell_type": "markdown",
   "metadata": {
    "id": "62RBse5azwj3"
   },
   "source": [
    "Next, return only the attributes from SERVES"
   ]
  },
  {
   "cell_type": "code",
   "execution_count": null,
   "metadata": {
    "id": "s_dpfb1Ozwj3"
   },
   "outputs": [],
   "source": [
    "%%sql\n",
    "SELECT \n",
    "FROM Frequents  AS f,  Serves AS s\n",
    "WHERE f.cafe = s.cafe AND  s.coffee = 'Cold Brew'"
   ]
  },
  {
   "cell_type": "markdown",
   "metadata": {
    "id": "U3QDQiS-zwj3"
   },
   "source": [
    "Next,  add the text string 'Favorite' to the values returned.\n",
    "\n",
    "Note that you use single quotes here, not double."
   ]
  },
  {
   "cell_type": "code",
   "execution_count": null,
   "metadata": {
    "id": "5nstA-pGzwj3"
   },
   "outputs": [],
   "source": [
    "%%sql\n",
    "SELECT \n",
    "FROM Frequents  AS f,  Serves  AS s \n",
    "WHERE f.cafe = s.cafe AND  s.coffee = 'Cold Brew'"
   ]
  },
  {
   "cell_type": "code",
   "execution_count": null,
   "metadata": {},
   "outputs": [],
   "source": []
  }
 ],
 "metadata": {
  "colab": {
   "collapsed_sections": [],
   "name": "SQL1Colab.ipynb",
   "provenance": []
  },
  "kernelspec": {
   "display_name": "Python 3",
   "language": "python",
   "name": "python3"
  },
  "language_info": {
   "codemirror_mode": {
    "name": "ipython",
    "version": 3
   },
   "file_extension": ".py",
   "mimetype": "text/x-python",
   "name": "python",
   "nbconvert_exporter": "python",
   "pygments_lexer": "ipython3",
   "version": "3.8.8"
  }
 },
 "nbformat": 4,
 "nbformat_minor": 1
}
